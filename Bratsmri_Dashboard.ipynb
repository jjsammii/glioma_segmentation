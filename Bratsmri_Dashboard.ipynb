{
 "cells": [
  {
   "cell_type": "code",
   "execution_count": 1,
   "id": "c45c11b6-9eca-43dd-982c-58806a063f48",
   "metadata": {
    "extensions": {
     "jupyter_dashboards": {
      "activeView": "grid_default",
      "version": 1,
      "views": {
       "grid_default": {
        "hidden": true
       }
      }
     }
    }
   },
   "outputs": [],
   "source": [
    "import pandas as pd\n",
    "from ipywidgets import *\n",
    "import plotly.express as px\n",
    "import ipywidgets as widgets\n",
    "from PIL import Image\n",
    "import os,sys\n",
    "import glob\n",
    "import cv2\n",
    "import ipywidgets\n",
    "import numpy as np\n",
    "from pathlib import Path\n",
    "from matplotlib import pylab as plt\n",
    "import random\n",
    "from tkinter import Tk, filedialog\n",
    "import shutil\n",
    "pd.set_option('display.max_colwidth', None)\n",
    "from pathlib import Path\n",
    "from IPython.display import display, clear_output\n",
    "from ipywidgets import Button\n",
    "import imageio\n",
    "import matplotlib\n",
    "import statistics\n",
    "from tensorflow.keras.models import Model, load_model, save_model"
   ]
  },
  {
   "cell_type": "markdown",
   "id": "0d92f548",
   "metadata": {
    "extensions": {
     "jupyter_dashboards": {
      "version": 1,
      "views": {
       "grid_default": {
        "col": 0,
        "height": 2,
        "row": 0,
        "width": 12
       }
      }
     }
    }
   },
   "source": [
    "### <font color ='#27B1CA'>Glioma Classification and Segmentation and NLP analysis </font> ###"
   ]
  },
  {
   "cell_type": "markdown",
   "id": "61343a5e",
   "metadata": {
    "extensions": {
     "jupyter_dashboards": {
      "version": 1,
      "views": {
       "grid_default": {
        "col": 0,
        "height": 2,
        "row": 2,
        "width": 12
       }
      }
     }
    }
   },
   "source": [
    "This dashboard is used for the detection and classification of Gliomas as well as comparitive analysis between expert labeling and machine labeling to ensure accuracy."
   ]
  },
  {
   "cell_type": "code",
   "execution_count": 2,
   "id": "0b992120-3708-498a-87f6-5b8014c6dcff",
   "metadata": {
    "extensions": {
     "jupyter_dashboards": {
      "activeView": "grid_default",
      "version": 1,
      "views": {
       "grid_default": {
        "hidden": true
       }
      }
     }
    }
   },
   "outputs": [],
   "source": [
    "#Corrected Dice Coefficient\n",
    "def dice_coef(y_true, y_pred, smooth=1):\n",
    "    y_true_f = K.flatten(y_true)\n",
    "    y_pred_f = K.flatten(y_pred)\n",
    "    intersection = K.sum(y_true_f * y_pred_f)\n",
    "    return (2. * intersection + smooth) / (K.sum(y_true_f) + K.sum(y_pred_f) + smooth)\n",
    "    0\n",
    "\n",
    "#IOU Coeffifficent\n",
    "def iou(y_true, y_pred, smooth=1):\n",
    "    y_true_f = K.flatten(y_true)\n",
    "    y_pred_f = K.flatten(y_pred)\n",
    "    intersection = K.sum(y_true_f * y_pred_f)\n",
    "    union = K.sum(y_true_f) + K.sum(y_pred_f) - intersection\n",
    "    return (intersection + smooth) / (union + smooth)\n",
    "\n",
    "\n",
    "# Computing Precision \n",
    "def precision(y_true, y_pred):\n",
    "        true_positives = K.sum(K.round(K.clip(y_true * y_pred, 0, 1)))\n",
    "        predicted_positives = K.sum(K.round(K.clip(y_pred, 0, 1)))\n",
    "        precision = true_positives / (predicted_positives + K.epsilon())\n",
    "        return precision\n",
    "\n",
    "# Computing Sensitivity      \n",
    "def sensitivity(y_true, y_pred):\n",
    "    true_positives = K.sum(K.round(K.clip(y_true * y_pred, 0, 1)))\n",
    "    possible_positives = K.sum(K.round(K.clip(y_true, 0, 1)))\n",
    "    return true_positives / (possible_positives + K.epsilon())\n",
    "\n",
    "# Computing Specificity\n",
    "def specificity(y_true, y_pred):\n",
    "    true_negatives = K.sum(K.round(K.clip((1-y_true) * (1-y_pred), 0, 1)))\n",
    "    possible_negatives = K.sum(K.round(K.clip(1-y_true, 0, 1)))\n",
    "    return true_negatives / (possible_negatives + K.epsilon())"
   ]
  },
  {
   "cell_type": "code",
   "execution_count": 3,
   "id": "dc590fc1-a338-4b8a-8c12-e42aa489d7c9",
   "metadata": {
    "extensions": {
     "jupyter_dashboards": {
      "activeView": "grid_default",
      "version": 1,
      "views": {
       "grid_default": {
        "hidden": true
       }
      }
     }
    }
   },
   "outputs": [],
   "source": [
    "#Loading Classification Model\n",
    "model = load_model(\"C:/Voila/models/brats2019_imagenet_class.h5\")"
   ]
  },
  {
   "cell_type": "code",
   "execution_count": 4,
   "id": "3da2ed54-6545-4bfd-9140-cabb15844e4e",
   "metadata": {
    "extensions": {
     "jupyter_dashboards": {
      "activeView": "grid_default",
      "version": 1,
      "views": {
       "grid_default": {
        "hidden": true
       }
      }
     }
    }
   },
   "outputs": [],
   "source": [
    "#Loading Segmentation model\n",
    "model1 = load_model(\"C:/Voila/models/BraTs2019mri_final_seg.h5\", custom_objects={'dice_coef': dice_coef, 'iou':iou, 'precision':precision, 'sensitivity':sensitivity, 'specificity':specificity})"
   ]
  },
  {
   "cell_type": "code",
   "execution_count": 5,
   "id": "4684ea3e",
   "metadata": {
    "extensions": {
     "jupyter_dashboards": {
      "version": 1,
      "views": {
       "grid_default": {
        "hidden": true
       }
      }
     }
    }
   },
   "outputs": [],
   "source": [
    "items_layout = Layout( width='auto')     # override the default width of the button to 'auto' to let the button grow"
   ]
  },
  {
   "cell_type": "code",
   "execution_count": 6,
   "id": "fa48dfb7-c84b-4f9a-b114-e07c0d23e2bc",
   "metadata": {
    "extensions": {
     "jupyter_dashboards": {
      "activeView": "grid_default",
      "version": 1,
      "views": {
       "grid_default": {
        "hidden": true
       }
      }
     }
    }
   },
   "outputs": [],
   "source": [
    "def del_files(src):    #function to delete files from a folder\n",
    "    files = glob.glob(src)\n",
    "    for f in files:\n",
    "        os.remove(f)\n",
    "        \n",
    "def del_folder(src):    #function to delete folders\n",
    "    folders = glob.glob(src)\n",
    "    for dirs in folders:\n",
    "        shutil.rmtree(dirs)\n",
    "    "
   ]
  },
  {
   "cell_type": "code",
   "execution_count": 7,
   "id": "7bcdf5a3-1797-4752-8f71-c20cf2da27bc",
   "metadata": {
    "extensions": {
     "jupyter_dashboards": {
      "activeView": "grid_default",
      "version": 1,
      "views": {
       "grid_default": {
        "hidden": true
       }
      }
     }
    }
   },
   "outputs": [],
   "source": [
    "#Individual Classification Code\n",
    "def classify(path):\n",
    "    prediction_list = []\n",
    "    \n",
    "    imagesl = glob.glob(path + '/*.png')    \n",
    "    df = pd.DataFrame({'Image_dir': imagesl})\n",
    "    for img1 in df['Image_dir']:\n",
    "        image = cv2.imread(img1)    \n",
    "        img = cv2.resize(image ,(256, 256))\n",
    "        img = img / 255\n",
    "        #img = img[np.newaxis, :, :, 1]\n",
    "        img = np.expand_dims(img, axis=0)\n",
    "        pred=model.predict(img)\n",
    "        mod_pred = np.argmax(pred, axis =1)   \n",
    "        prediction_list.append(mod_pred[0])\n",
    "    preds = [\"HGG\" if i == 0 else \"LGG\"  if i ==1 else \"NT\" for i in prediction_list]\n",
    "    df[\"Predictions\"] = preds\n",
    "    df[\"Image_Class\"] = df[\"Image_dir\"] + \"__\" + df[\"Predictions\"]\n",
    "    t = []\n",
    "    for images in df[\"Image_Class\"]:\n",
    "        pth = Path(images)\n",
    "        pthparts = pth.parts\n",
    "        pthparts_type = pthparts[3].split(\"__\")\n",
    "        text = \"Image \" + pthparts_type[0] + \" is classified as \" + pthparts_type[1]\n",
    "        t.append(text)\n",
    "    df['text'] = t\n",
    "    print(df['text'])\n",
    "        "
   ]
  },
  {
   "cell_type": "code",
   "execution_count": 8,
   "id": "6b5887bd-ba0a-4d4d-9e72-74c27af0704f",
   "metadata": {
    "extensions": {
     "jupyter_dashboards": {
      "activeView": "grid_default",
      "version": 1,
      "views": {
       "grid_default": {
        "hidden": true
       }
      }
     }
    }
   },
   "outputs": [],
   "source": [
    "#Individual Segmentation Code\n",
    "def segmentation(pathway):\n",
    "    imagesl = glob.glob(pathway + '/*.png')\n",
    "    df = pd.DataFrame({'Image_dir': imagesl})\n",
    "    for img1 in df['Image_dir'][:3]:\n",
    "        image = cv2.imread(img1)\n",
    "        img = cv2.resize(image ,(240, 240))\n",
    "        img = img / 255\n",
    "        img = img[np.newaxis, :, :, 1]\n",
    "        pred=model1.predict(img)\n",
    "        plt.figure(figsize=(20,20))\n",
    "        plt.subplot(1,4,1)\n",
    "        plt.imshow(np.squeeze(img))\n",
    "        plt.title('Original Image')\n",
    "        plt.subplot(1,4,2)\n",
    "        plt.imshow(np.squeeze(pred))\n",
    "        plt.title('Prediction')\n",
    "        plt.subplot(1,4,3)\n",
    "        plt.imshow(np.squeeze(pred) > 0.5)\n",
    "        plt.title('BinaryPrediction')\n",
    "        plt.show()        \n",
    "    "
   ]
  },
  {
   "cell_type": "code",
   "execution_count": 9,
   "id": "a8bb455c-1f44-441b-86a5-dec3deb076ab",
   "metadata": {
    "extensions": {
     "jupyter_dashboards": {
      "activeView": "grid_default",
      "version": 1,
      "views": {
       "grid_default": {
        "hidden": true
       }
      }
     }
    }
   },
   "outputs": [],
   "source": [
    "#Segmentation\n",
    "segment_button = widgets.Button(description=\"Segment Images\", button_style='primary')\n",
    "segment_output = widgets.Output()\n",
    "#display(segment_output)\n",
    "\n",
    "#display(segment_button, segment_output)\n",
    "\n",
    "def segment_images(b):\n",
    "    with segment_output:\n",
    "        clear_output(True)\n",
    "        try:\n",
    "            #clear_output()                                         # Button is deleted after it is clicked.\n",
    "            root = Tk()\n",
    "            root.withdraw()                                        # Hide the main window.\n",
    "            root.call('wm', 'attributes', '.', '-topmost', True)   # Raise the root to the top of all windows.\n",
    "            b.files = filedialog.askopenfilename(multiple=True)    # List of selected files will be set button's file attribute.\n",
    "            destination = 'C:\\Voila\\processing'\n",
    "            del_files(destination+ '/*')\n",
    "            for images in b.files:\n",
    "                shutil.copy(images, destination)        \n",
    "            print(\"All images Successfully uploaded\")\n",
    "            segmentation(destination)\n",
    "        except:\n",
    "            print(\"No image Uploaded\")\n",
    "        \n",
    "segment_button.on_click(segment_images)"
   ]
  },
  {
   "cell_type": "code",
   "execution_count": 10,
   "id": "34003e7e-b664-47b2-a022-4cc48153e1ad",
   "metadata": {
    "extensions": {
     "jupyter_dashboards": {
      "activeView": "grid_default",
      "version": 1,
      "views": {
       "grid_default": {
        "hidden": true
       }
      }
     }
    }
   },
   "outputs": [],
   "source": [
    "#Classification\n",
    "\n",
    "classification_button = widgets.Button(description=\"Classify Images\", button_style='primary')\n",
    "classification_output = widgets.Output()\n",
    "#display(classification_output)\n",
    "\n",
    "#display(classification_button, classification_output)\n",
    "\n",
    "def classify_images(b):\n",
    "    with classification_output:\n",
    "        clear_output(True)\n",
    "        try:\n",
    "            #clear_output()                                         # Button is deleted after it is clicked.\n",
    "            root = Tk()\n",
    "            root.withdraw()                                        # Hide the main window.\n",
    "            root.call('wm', 'attributes', '.', '-topmost', True)   # Raise the root to the top of all windows.\n",
    "            b.files = filedialog.askopenfilename(multiple=True)    # List of selected files will be set button's file attribute.\n",
    "            destination = 'C:\\Voila\\processing'\n",
    "            del_files(destination+ '/*')\n",
    "            for images in b.files:\n",
    "                shutil.copy(images, destination)        \n",
    "            print(\"All images Successfully uploaded\")\n",
    "            classify(destination)\n",
    "        except:\n",
    "            print(\"No image Uploaded\")\n",
    "        \n",
    "classification_button.on_click(classify_images)"
   ]
  },
  {
   "cell_type": "code",
   "execution_count": 11,
   "id": "405732df-3682-4921-92d2-21222765ea89",
   "metadata": {
    "extensions": {
     "jupyter_dashboards": {
      "activeView": "grid_default",
      "version": 1,
      "views": {
       "grid_default": {
        "hidden": true
       }
      }
     }
    }
   },
   "outputs": [],
   "source": [
    "#Segmentation and Classification"
   ]
  },
  {
   "cell_type": "code",
   "execution_count": 12,
   "id": "505c2a6e-c19c-4905-847c-c42da20736d7",
   "metadata": {
    "extensions": {
     "jupyter_dashboards": {
      "activeView": "grid_default",
      "version": 1,
      "views": {
       "grid_default": {
        "hidden": true
       }
      }
     }
    }
   },
   "outputs": [],
   "source": [
    "##### ****************************  ##############\n",
    "def prelim_class(img1):\n",
    "    image = cv2.imread(img1)    \n",
    "    img = cv2.resize(image ,(256, 256))\n",
    "    img = img / 255\n",
    "    #img = img[np.newaxis, :, :, 1]\n",
    "    img = np.expand_dims(img, axis=0)\n",
    "    pred=model.predict(img)\n",
    "    mod_pred = np.argmax(pred, axis =1)\n",
    "    if mod_pred[0] == 0:\n",
    "        return \"HGG\"\n",
    "    elif mod_pred[0] == 1:\n",
    "        return \"LGG\"\n",
    "    else:\n",
    "        return \"No Tumor\"\n",
    "    \n",
    "    \n",
    "def segmentation_class(pathway):\n",
    "    imagesl = glob.glob(pathway + '/*.png')\n",
    "    df = pd.DataFrame({'Image_dir': imagesl})\n",
    "    print(df)\n",
    "    for img1 in df['Image_dir'][:3]:\n",
    "        pred2 = prelim_class(img1)\n",
    "        pred_title = \"Predicted Glioma: \" + pred2\n",
    "        image = cv2.imread(img1)\n",
    "        img = cv2.resize(image ,(240, 240))\n",
    "        img = img / 255\n",
    "        img = img[np.newaxis, :, :, 1]\n",
    "        pred=model1.predict(img)        \n",
    "        plt.figure(figsize=(20,20))\n",
    "        plt.subplot(1,4,1)\n",
    "        plt.imshow(np.squeeze(img))\n",
    "        plt.title('Original Image')\n",
    "        plt.subplot(1,4,2)\n",
    "        plt.imshow(np.squeeze(pred))\n",
    "        plt.title(pred_title)\n",
    "        plt.subplot(1,4,3)\n",
    "        plt.imshow(np.squeeze(pred) > 0.5)\n",
    "        plt.title('BinaryPrediction: ' + pred2)\n",
    "        plt.show()       "
   ]
  },
  {
   "cell_type": "code",
   "execution_count": 13,
   "id": "586c50ec-39fb-4115-809e-4d1299eb8ee3",
   "metadata": {
    "extensions": {
     "jupyter_dashboards": {
      "activeView": "grid_default",
      "version": 1,
      "views": {
       "grid_default": {
        "hidden": true
       }
      }
     }
    }
   },
   "outputs": [],
   "source": [
    "#Segmentation\n",
    "def predict_segments(pathway):\n",
    "    imagesl = glob.glob(pathway + '/*.png')\n",
    "    df = pd.DataFrame({'Image_dir': imagesl})\n",
    "    for img1 in df['Image_dir']:        \n",
    "        pth = Path(img1)\n",
    "        pthparts = pth.parts\n",
    "        image_name = pthparts[3]        \n",
    "        image = cv2.imread(img1)\n",
    "        img = cv2.resize(image ,(240, 240))\n",
    "        img = img / 255\n",
    "        img = img[np.newaxis, :, :, 1]\n",
    "        pred=model1.predict(img)\n",
    "        plt.imsave('processing/' + \"seg__\" + image_name, np.squeeze(pred))\n",
    "        \n",
    "        \n",
    "upload_button = widgets.Button(description=\"Upload Image\", button_style='info')\n",
    "upload_output = widgets.Output()\n",
    "#display(upload_output)\n",
    "        \n",
    "#display(upload_button, upload_output)\n",
    "\n",
    "def uploads(b):\n",
    "    with upload_output:\n",
    "        clear_output(True)        \n",
    "        try:\n",
    "            #clear_output()                                         # Button is deleted after it is clicked.\n",
    "            root = Tk()\n",
    "            root.withdraw()                                        # Hide the main window.\n",
    "            root.call('wm', 'attributes', '.', '-topmost', True)   # Raise the root to the top of all windows.\n",
    "            b.files = filedialog.askopenfilename(multiple=True)    # List of selected files will be set button's file attribute.\n",
    "            destination = 'C:\\Voila\\processing'\n",
    "            del_files(destination+ '/*')\n",
    "            for images in b.files:\n",
    "                shutil.copy(images, destination)      \n",
    "            predict_segments(destination)\n",
    "            print(\"Images Successfully Uploaded\")\n",
    "        except:\n",
    "            print(\"No image Uploaded\")\n",
    "        \n",
    "#upload_button = Button(description=\"Upload Images\")\n",
    "upload_button.on_click(uploads)\n",
    "\n"
   ]
  },
  {
   "cell_type": "code",
   "execution_count": 14,
   "id": "08b5832e-941f-4b79-a7b3-2512c05f0fff",
   "metadata": {
    "extensions": {
     "jupyter_dashboards": {
      "activeView": "grid_default",
      "version": 1,
      "views": {
       "grid_default": {
        "hidden": true
       }
      }
     }
    }
   },
   "outputs": [],
   "source": [
    "#prelim_class(\"C:\\Voila\\processing\\HGG-Axial-BraTS19_2013_17_1_flair_sliceno-100.png\")"
   ]
  },
  {
   "cell_type": "code",
   "execution_count": 15,
   "id": "e991346e-2b8a-4f85-b075-e27d93677b85",
   "metadata": {
    "extensions": {
     "jupyter_dashboards": {
      "activeView": "grid_default",
      "version": 1,
      "views": {
       "grid_default": {
        "hidden": true
       }
      }
     }
    }
   },
   "outputs": [],
   "source": [
    "#predict_segments(\"C:\\Voila\\processing\\HGG-Axial-BraTS19_2013_17_1_flair_sliceno-110.png\")"
   ]
  },
  {
   "cell_type": "code",
   "execution_count": 16,
   "id": "fba2f823-a61d-4d8e-95e7-ab16e435556d",
   "metadata": {
    "extensions": {
     "jupyter_dashboards": {
      "activeView": "grid_default",
      "version": 1,
      "views": {
       "grid_default": {
        "hidden": true
       }
      }
     }
    }
   },
   "outputs": [],
   "source": [
    "##### ****************************  ##############\n",
    "\n",
    "def prelim_class(img1):   #This function is used to classify mri slice as HGG, LGG or No Tumor (NT)\n",
    "    image = cv2.imread(img1)    \n",
    "    img = cv2.resize(image ,(256, 256))\n",
    "    img = img / 255    \n",
    "    img = np.expand_dims(img, axis=0)\n",
    "    pred=model.predict(img)\n",
    "    mod_pred = np.argmax(pred, axis =1)\n",
    "    if mod_pred[0] == 0:\n",
    "        return \"HGG\"\n",
    "    elif mod_pred[0] == 1:\n",
    "        return \"LGG\"\n",
    "    else:\n",
    "        return \"No Tumor\"\n",
    "\n",
    "\n",
    "def pixcnt(dfcol):       #function to calculate total number of pixels\n",
    "    first_lst = []\n",
    "    second_lst = []    \n",
    "    for lst in dfcol:\n",
    "        avg = [statistics.mean(j) for j in lst]\n",
    "        first_lst.append(avg)\n",
    "    for k in first_lst:\n",
    "        second_lst.append(sum(k))\n",
    "    return second_lst\n",
    "\n",
    "\n",
    "segandclass_button = widgets.Button(description=\"Full Prediction\", button_style='primary')\n",
    "segandclass_output = widgets.Output()\n",
    "\n",
    "\n",
    "src = 'C:/Voila/processing/*'\n",
    "\n",
    "def img_dataframe(b):  #This function takes care of showing predictions via dataframe of images\n",
    "    with segandclass_output:\n",
    "            clear_output(True)\n",
    "            path = \"C:/Voila/processing/\"\n",
    "            directory = os.listdir(path)\n",
    "            if len(directory) == 0: \n",
    "                print(\"Output Deleted / No Image Uploaded\")\n",
    "            else:\n",
    "                try:\n",
    "                    imagesl = glob.glob('C:/Voila/processing/*')    #search source folder and create a list of all images\n",
    "                    df = pd.DataFrame({'Image_dir': imagesl}) #add images as a dataframe\n",
    "                    origin = []              \n",
    "                    for images in df[\"Image_dir\"]:            \n",
    "                        pth = Path(images)\n",
    "                        pthparts = pth.parts\n",
    "                        img_info = pthparts[3]    #extract image name\n",
    "                        origin.append(img_info.replace(\"seg__\", \"\"))        \n",
    "                    df[\"img_type\"] = [\"seg\" if img[20:23] == \"seg\" else \"image\" for img in df[\"Image_dir\"]]  #labeling the image as to whether or not it is a segment      \n",
    "                    df[\"origin_image\"] = origin                      #create a reference column to later perform merge\n",
    "                    df_seg = df.loc[df[\"img_type\"]!= \"image\"] #seperating segment images from original images\n",
    "                    df_img = df.loc[df[\"img_type\"]!= \"seg\"] #seperating original images from segmented images\n",
    "                    df_seg.columns = ['segs_dir', 'segs_imgtype', 'segs_origin_image']   #renaming columns for distinction\n",
    "                    df_img.columns = ['Image_dir', 'image_type', 'image_origin'] #enaming columns for distinction\n",
    "                    df = df_img.merge(df_seg, how=\"left\", left_on=\"image_origin\", right_on=\"segs_origin_image\")        #merging on origin column\n",
    "                    df= df[['Image_dir', 'segs_dir']]     #selecting the two most relevant columns\n",
    "                    df[\"pred_pxls\"] = [Image.open(seg_img).getdata() for seg_img in df[\"segs_dir\"]]  #calculating pixel count\n",
    "                    df[\"pred_pxls\"] = pixcnt(df[\"pred_pxls\"])        #calling total pixel count function\n",
    "                    df = df.sort_values(by=[\"pred_pxls\"], ascending=False)\n",
    "\n",
    "                    for idx in range(len(df)):         \n",
    "                        imagepath = os.path.join(df['Image_dir'].iloc[idx])\n",
    "                        segpath = os.path.join(df['segs_dir'].iloc[idx])\n",
    "                        pth = Path(imagepath)\n",
    "                        pthparts = pth.parts\n",
    "                        image_name = pthparts[3]\n",
    "                        pred2 = prelim_class(imagepath)\n",
    "                        pred_title = \"Predicted Glioma: \" + pred2\n",
    "\n",
    "                        image = cv2.imread(imagepath)\n",
    "                        seg = cv2.imread(segpath)\n",
    "\n",
    "                        img = cv2.resize(image ,(240, 240))\n",
    "                        img = img / 255\n",
    "                        img = img[np.newaxis, :, :, 1]\n",
    "                        pred=model1.predict(img)\n",
    "                        plt.figure(figsize=(20,20))\n",
    "                        plt.subplot(1,4,1)\n",
    "                        plt.imshow(np.squeeze(img))\n",
    "                        plt.title(image_name)\n",
    "                        plt.subplot(1,4,2)\n",
    "                        plt.imshow(np.squeeze(pred))\n",
    "                        plt.title(pred_title)\n",
    "                        plt.subplot(1,4,3)\n",
    "                        plt.imshow(np.squeeze(pred) > 0.5)\n",
    "                        plt.title('BinaryPrediction: ' + pred2)\n",
    "                        plt.subplot(1,4,4)\n",
    "                        plt.imshow(np.squeeze(img), cmap='gray')\n",
    "                        plt.imshow(np.squeeze(pred),alpha=0.3,cmap='Reds')\n",
    "                        plt.title('OverLay')\n",
    "                        plt.show()\n",
    "                except:\n",
    "                    pass\n",
    "\n",
    "segandclass_button.on_click(img_dataframe)\n",
    "   "
   ]
  },
  {
   "cell_type": "code",
   "execution_count": 17,
   "id": "c0ec05e6-2222-477e-bdf5-5879332c47b1",
   "metadata": {
    "extensions": {
     "jupyter_dashboards": {
      "activeView": "grid_default",
      "version": 1,
      "views": {
       "grid_default": {
        "hidden": true
       }
      }
     }
    }
   },
   "outputs": [],
   "source": [
    "#prediction of patient samples\n",
    "#Segmentation\n",
    "\n",
    "patients_button = widgets.Button(description=\"Patient Upload\", button_style='info')\n",
    "patients_output = widgets.Output()\n",
    "#display(patients_output)\n",
    "\n",
    "#display(patients_button, patients_output)\n",
    "\n",
    "def select_folder(b):\n",
    "    with patients_output:\n",
    "        try:\n",
    "            clear_output(True)                                         \n",
    "            root = Tk()\n",
    "            root.withdraw()                                        # Hide the main window.         \n",
    "            root.call('wm', 'attributes', '.', '-topmost', True)\n",
    "            folder_selected = filedialog.askdirectory()   # List of selected files will be set button's file attribute.        \n",
    "            pth = Path(folder_selected)\n",
    "            pthparts = pth.parts\n",
    "            newfolder_name = pthparts[3]\n",
    "            #print(folder_selected)\n",
    "            destination = 'C:/Voila/Patients'\n",
    "            del_folder(destination+ '/*')\n",
    "            for image_dirs in folder_selected:\n",
    "                shutil.copytree(folder_selected, destination + '/' + newfolder_name) \n",
    "        except:\n",
    "            print(\"Upload Complete\")\n",
    "\n",
    "        \n",
    "patients_button.on_click(select_folder)\n",
    "        \n",
    "        "
   ]
  },
  {
   "cell_type": "code",
   "execution_count": 18,
   "id": "a481abc8-6540-4db3-83b8-5540d9b76cda",
   "metadata": {
    "extensions": {
     "jupyter_dashboards": {
      "activeView": "grid_default",
      "version": 1,
      "views": {
       "grid_default": {
        "hidden": true
       }
      }
     }
    }
   },
   "outputs": [],
   "source": [
    "panalysis_button = widgets.Button(description=\"Patient Analysis\", button_style='primary')\n",
    "panalysis_output = widgets.Output()\n",
    "#display(panalysis_output) \n",
    "\n",
    "#display(panalysis_button, panalysis_output)\n",
    "\n",
    "def patient_analysis(b):\n",
    "    with panalysis_output:\n",
    "        clear_output(True)\n",
    "        path = \"C:/Voila/Patients/\"\n",
    "        directory = os.listdir(path)\n",
    "        if len(directory) == 0: \n",
    "            print(\"Output Deleted / No Image Uploaded\") \n",
    "        else:         \n",
    "            try:            \n",
    "                filelist = []    \n",
    "                for root, dirs, files in os.walk(\"C:\\Voila\\Patients\"):\n",
    "                    for file in files:        \n",
    "                        filelist.append(os.path.join(root,file))  #append the file name to the list  \n",
    "                df = pd.DataFrame({'Image_dir': filelist}) #creating image dataframe\n",
    "                df[\"Image_dir\"] = [path.replace(\"\\\\\", \"/\") for path in df[\"Image_dir\"]]   #structuring imag path string\n",
    "                folder = []\n",
    "                for path in df[\"Image_dir\"]:\n",
    "                    pth = Path(path)\n",
    "                    pth_part = pth.parts\n",
    "                    foldername = pth_part[3] + '_' + pth_part[4] + '_' + pth_part[5]\n",
    "                    folder.append(foldername)\n",
    "                df[\"subfolder\"] = folder   \n",
    "                df[\"Image_type\"] = [\"scan\" if img[-8:-4] == \"scan\" else \"mask\" for img in df[\"Image_dir\"]] #add a column for image types\n",
    "                df_scan = df.loc[df[\"Image_type\"] == \"scan\"] #seperating scans from images\n",
    "                df_mask = df.loc[df[\"Image_type\"] == \"mask\"] #seperating scans from images\n",
    "                df_scan.columns = ['scans_dir', 'scans_subfolder', 'scans_Image_type'] #renaming columns\n",
    "                df_mask.columns = ['masks_dir', 'masks_subfolder', 'masks_Image_type'] #renaming columns\n",
    "                df_img = df_scan.merge(df_mask, how=\"left\", left_on='scans_subfolder', right_on='masks_subfolder') #aligning scans with masks\n",
    "                df = df_img[['scans_dir', 'masks_dir']]\n",
    "                for idx in range(len(df)):        \n",
    "                    imagePath = os.path.join(df_img['scans_dir'].iloc[idx])\n",
    "                    maskPath = os.path.join(df_img['masks_dir'].iloc[idx])\n",
    "                    #print(imagePath)\n",
    "                    pred2 = prelim_class(imagePath)\n",
    "                    pred_title = \"Predicted Glioma: \" + pred2\n",
    "\n",
    "                    image = cv2.imread(imagePath)\n",
    "                    mask = cv2.imread(maskPath)\n",
    "\n",
    "                    img = cv2.resize(image ,(240, 240))\n",
    "                    img = img / 255\n",
    "                    img = img[np.newaxis, :, :, 1]\n",
    "                    pred1=model1.predict(img)\n",
    "                    mask = cv2.resize(mask ,(240, 240))\n",
    "                    mask = mask/255\n",
    "\n",
    "                    plt.figure(figsize=(20,20))\n",
    "                    plt.subplot(1,5,1)\n",
    "                    plt.imshow(np.squeeze(img))\n",
    "                    plt.title('Original Image')\n",
    "                    plt.subplot(1,5,2)\n",
    "                    plt.imshow(mask)\n",
    "                    plt.title('Original Mask')\n",
    "                    plt.subplot(1,5,3)\n",
    "                    plt.imshow(np.squeeze(pred1))\n",
    "                    plt.title(pred_title)\n",
    "                    plt.subplot(1,5,4)\n",
    "                    plt.imshow(np.squeeze(pred1) > 0.5)\n",
    "                    plt.title('BinaryPrediction: ' + pred2)\n",
    "                    plt.subplot(1,5,5)\n",
    "                    plt.imshow(np.squeeze(img), cmap='gray')\n",
    "                    plt.imshow(np.squeeze(pred1),alpha=0.3,cmap='Reds')\n",
    "                    plt.title('OverLay')\n",
    "                    plt.show()\n",
    "            except:\n",
    "                pass\n",
    "\n",
    "\n",
    "panalysis_button.on_click(patient_analysis)    "
   ]
  },
  {
   "cell_type": "code",
   "execution_count": 19,
   "id": "48a306f1",
   "metadata": {
    "extensions": {
     "jupyter_dashboards": {
      "version": 1,
      "views": {
       "grid_default": {
        "hidden": true
       }
      }
     }
    }
   },
   "outputs": [],
   "source": [
    "#clear output\n",
    "clear_button = widgets.Button(description=\"Clear Output\", button_style='info')\n",
    "clear_outputs = widgets.Output()\n",
    "#display(clear_outputs)\n",
    "\n",
    "#display(clear_button, clear_outputs)\n",
    "\n",
    "def clear_images(b):\n",
    "    with clear_outputs:\n",
    "        clear_output(True)        \n",
    "        try:\n",
    "            destination1 = 'C:\\Voila\\processing\\*'            \n",
    "            imagesl = glob.glob(destination1)\n",
    "            df = pd.DataFrame({'Image_dir': imagesl})        \n",
    "            if len(df) >= 1:\n",
    "                del_files(destination1)               \n",
    "                img_dataframe(b)\n",
    "            else:\n",
    "                print(\"\")            \n",
    "        except:\n",
    "            pass    \n",
    "        \n",
    "\n",
    "clear_button.on_click(clear_images)"
   ]
  },
  {
   "cell_type": "code",
   "execution_count": 20,
   "id": "c838ee4e",
   "metadata": {
    "extensions": {
     "jupyter_dashboards": {
      "version": 1,
      "views": {
       "grid_default": {
        "hidden": true
       }
      }
     }
    }
   },
   "outputs": [],
   "source": [
    "delete_button = widgets.Button(description=\"Delete\", button_style='info')\n",
    "delete_outputs = widgets.Output()\n",
    "\n",
    "\n",
    "def delete_images(b):\n",
    "    with delete_outputs:\n",
    "        clear_output(True)        \n",
    "        try:\n",
    "            destination1 = 'C:/Voila/Patients/*'            \n",
    "            imagesl = glob.glob(destination1)\n",
    "            df = pd.DataFrame({'Image_dir': imagesl})        \n",
    "            if len(df) >= 1:\n",
    "                del_folder(destination1)               \n",
    "                patient_analysis(b)\n",
    "            else:\n",
    "                print(\"\")            \n",
    "        except:\n",
    "            pass\n",
    "    \n",
    "\n",
    "delete_button.on_click(delete_images)"
   ]
  },
  {
   "cell_type": "code",
   "execution_count": 21,
   "id": "2b3de93d",
   "metadata": {
    "extensions": {
     "jupyter_dashboards": {
      "version": 1,
      "views": {
       "grid_default": {
        "hidden": true
       }
      }
     }
    }
   },
   "outputs": [],
   "source": [
    "extract_results_button = widgets.Button(description=\"Download\", button_style='primary')\n",
    "extract_results_outputs = widgets.Output()\n",
    "\n",
    "def load_results(b):    \n",
    "    try:\n",
    "        imagesl = glob.glob('C:/Voila/processing/*')\n",
    "\n",
    "        df = pd.DataFrame({'Image_dir': imagesl})\n",
    "        image_list = []\n",
    "        classification = []\n",
    "        folder = []\n",
    "\n",
    "        for paths in df[\"Image_dir\"]:\n",
    "            pth = Path(paths)\n",
    "            pthparts = pth.parts\n",
    "            filename = pthparts[3].replace(\"seg__\",\"\")\n",
    "            image_list.append(pthparts[3])\n",
    "            classification.append(prelim_class(paths))    \n",
    "            folder.append(filename)\n",
    "        df[\"Image\"] = image_list\n",
    "        df[\"image_type\"] = [\"seg\" if img[0:3] == \"seg\" else \"image\" for img in df[\"Image\"]]\n",
    "        df[\"folder\"] = folder\n",
    "        df[\"classification\"] = classification\n",
    "        dfimg = df.loc[df[\"image_type\"] != \"seg\"]\n",
    "        dfseg = df.loc[df[\"image_type\"] !=\"image\"]\n",
    "        dfseg.columns = ['seg_dir', 'segimage', 'segtype', 'seg_folder', 'seg_classification']\n",
    "        df1 = dfimg.merge(dfseg, left_on = 'folder', right_on= 'seg_folder', how = 'left')\n",
    "        df1[\"pred_pxls\"] = [Image.open(seg_img).getdata() for seg_img in df1[\"seg_dir\"]]  #calculating pixel count\n",
    "        df1[\"pred_pxls\"] = pixcnt(df1[\"pred_pxls\"])        #calling total pixel count function\n",
    "        df1 = df1.sort_values(by=[\"pred_pxls\"], ascending=False)\n",
    "        df1 = df1[['Image', 'segimage', 'seg_classification', 'pred_pxls']]\n",
    "        df1.columns = ['Images', 'Segmented Images', 'Classification', 'Segment Pixel Count']\n",
    "        df1.to_csv('C:/Voila/data/result.csv', index=False)\n",
    "        file = \"C:/Voila/data/result.csv\"\n",
    "        os.startfile(file)\n",
    "    except:\n",
    "        pass\n",
    "        \n",
    "extract_results_button.on_click(load_results)        \n",
    "    "
   ]
  },
  {
   "cell_type": "code",
   "execution_count": 22,
   "id": "6fb9726c-7a8b-4e57-a1f1-5ceaa52e6167",
   "metadata": {
    "extensions": {
     "jupyter_dashboards": {
      "activeView": "grid_default",
      "version": 1,
      "views": {
       "grid_default": {
        "hidden": true
       }
      }
     }
    },
    "scrolled": true,
    "tags": []
   },
   "outputs": [],
   "source": [
    "#Button Creation\n",
    "buttons00 = widgets.VBox([panalysis_button, panalysis_output])\n",
    "buttons01 = widgets.HBox([delete_button, delete_outputs, patients_button, patients_output])\n",
    "buttons1 = widgets.VBox([classification_button, classification_output])\n",
    "buttons11 = widgets.VBox([segment_button, segment_output])\n",
    "#buttons2 = widgets.HBox([clear_button, clear_outputs])\n",
    "#buttons02 = widgets.HBox([delete_button, delete_outputs])\n",
    "buttons03 = widgets.HBox([clear_button, clear_outputs, upload_button, upload_output,])\n",
    "buttons3 = widgets.VBox([extract_results_button, segandclass_button, segandclass_output,])\n",
    "#buttons4 = widgets.VBox([extract_results_button, extract_results_outputs])\n",
    "#buttons0 = widgets.VBox([panalysis_button, patients_button, panalysis_output, patients_output, \\\n",
    "                         #classification_button, segment_button, classification_output, segment_output, \\\n",
    "                        #clear_button, delete_button, clear_outputs, delete_outputs, \\\n",
    "                        #upload_button, segandclass_button, upload_output, segandclass_output])"
   ]
  },
  {
   "cell_type": "code",
   "execution_count": 23,
   "id": "70e357e8",
   "metadata": {
    "extensions": {
     "jupyter_dashboards": {
      "version": 1,
      "views": {
       "grid_default": {
        "hidden": true
       }
      }
     }
    }
   },
   "outputs": [],
   "source": [
    "#display(buttons03)"
   ]
  },
  {
   "cell_type": "code",
   "execution_count": 24,
   "id": "c6b8a199-2545-4efc-a2af-62703f8f8453",
   "metadata": {
    "extensions": {
     "jupyter_dashboards": {
      "activeView": "grid_default",
      "version": 1,
      "views": {
       "grid_default": {
        "hidden": true
       }
      }
     }
    }
   },
   "outputs": [],
   "source": [
    "########################################################################################################################################################################"
   ]
  },
  {
   "cell_type": "code",
   "execution_count": 25,
   "id": "e8d80e4f",
   "metadata": {
    "extensions": {
     "jupyter_dashboards": {
      "version": 1,
      "views": {
       "grid_default": {
        "hidden": true
       }
      }
     }
    }
   },
   "outputs": [],
   "source": [
    "#N Grams Data Frames\n",
    "df_grams = pd.read_csv(\"C:/Voila/NLP_Extraction/Actual/Paper_Details/grams.csv\",  index_col=0)\n"
   ]
  },
  {
   "cell_type": "code",
   "execution_count": 26,
   "id": "8708869c-eef2-4156-80df-66c84dcc1c8a",
   "metadata": {
    "extensions": {
     "jupyter_dashboards": {
      "version": 1,
      "views": {
       "grid_default": {
        "hidden": true
       }
      }
     }
    }
   },
   "outputs": [],
   "source": [
    "#keywords Dataframe\n",
    "df_kw = pd.read_excel(\"C:/Voila/NLP_Extraction/Actual/Paper_Details/glioma_keywords.xlsx\", index_col=0)\n",
    "df_kw[\"expert_word_cnt\"] = np.where(df_kw[\"expert_labels\"]==\"*****\", 0, df_kw[\"expert_word_cnt\"])\n",
    "df_kw[\"expert_labels\"] = np.where(df_kw[\"expert_labels\"]==\"*****\", \"None\", df_kw[\"expert_labels\"])\n"
   ]
  },
  {
   "cell_type": "code",
   "execution_count": 27,
   "id": "b69e1a63-80f1-4732-8cb9-d7bab4069a0a",
   "metadata": {
    "extensions": {
     "jupyter_dashboards": {
      "version": 1,
      "views": {
       "grid_default": {
        "hidden": true
       }
      }
     }
    }
   },
   "outputs": [],
   "source": [
    "#naming Strings and values\n",
    "df_kw[\"expert_word_cnt\"] = np.where(df_kw[\"expert_labels\"]==\"*****\", 0, df_kw[\"expert_word_cnt\"])\n",
    "df_kw[\"expert_labels\"] = np.where(df_kw[\"expert_labels\"]==\"*****\", \"None\", df_kw[\"expert_labels\"])"
   ]
  },
  {
   "cell_type": "code",
   "execution_count": 28,
   "id": "2da6cd84",
   "metadata": {
    "extensions": {
     "jupyter_dashboards": {
      "version": 1,
      "views": {
       "grid_default": {
        "hidden": true
       }
      }
     }
    }
   },
   "outputs": [],
   "source": [
    "#creating expert words df using title, year, expert_labels\n",
    "df_exp = df_kw.groupby(['title', 'Year', 'expert_labels'], as_index=False)['expert_word_cnt'].mean()\n"
   ]
  },
  {
   "cell_type": "code",
   "execution_count": 29,
   "id": "978c63d7",
   "metadata": {
    "extensions": {
     "jupyter_dashboards": {
      "version": 1,
      "views": {
       "grid_default": {
        "hidden": true
       }
      }
     }
    }
   },
   "outputs": [],
   "source": [
    "#creating main words df using title, year, main_words\n",
    "#instead of plotting main words, n grams will be plotted instead\n",
    "df_mw = df_kw.groupby(['title', 'Year', 'main_words'], as_index=False)['main_word_cnt'].mean()"
   ]
  },
  {
   "cell_type": "code",
   "execution_count": 30,
   "id": "7f52899a",
   "metadata": {
    "extensions": {
     "jupyter_dashboards": {
      "version": 1,
      "views": {
       "grid_default": {
        "hidden": true
       }
      }
     }
    }
   },
   "outputs": [],
   "source": [
    "title_dropdown = widgets.Dropdown(\n",
    "    options=list(df_exp['title'].unique()),\n",
    "    value='A histopathological diagnostic marker for human spinal astrocytoma_ expression of glial fibrillary acidic protein-δ.pdf',\n",
    "    description='Documents',\n",
    ")"
   ]
  },
  {
   "cell_type": "code",
   "execution_count": 31,
   "id": "37312624",
   "metadata": {
    "extensions": {
     "jupyter_dashboards": {
      "version": 1,
      "views": {
       "grid_default": {
        "hidden": true
       }
      }
     }
    }
   },
   "outputs": [
    {
     "data": {
      "application/vnd.jupyter.widget-view+json": {
       "model_id": "60eaf76a739f4a95a22294ae1418bd9b",
       "version_major": 2,
       "version_minor": 0
      },
      "text/plain": [
       "interactive(children=(IntRangeSlider(value=(2010, 2010), continuous_update=False, description='Years:', max=20…"
      ]
     },
     "metadata": {},
     "output_type": "display_data"
    }
   ],
   "source": [
    "#Allow widget to interact with any plot\n",
    "\n",
    "year_widget0 = widgets.IntRangeSlider(\n",
    "    value=[2003, 2007],\n",
    "    min=2010,\n",
    "    max=2020,\n",
    "    step=1.0,\n",
    "    description='Years:',\n",
    "    continuous_update=False\n",
    ")\n",
    "\n",
    "exp_output0 = widgets.Output()\n",
    "\n",
    "year_widget1 = widgets.IntRangeSlider(\n",
    "    value=[2003, 2007],\n",
    "    min=2010,\n",
    "    max=2020,\n",
    "    step=1.0,\n",
    "    description='Years:',\n",
    "    continuous_update=False\n",
    ")\n",
    "\n",
    "exp_output1 = widgets.Output()\n",
    "\n",
    "l1 = widgets.link((year_widget1, 'value'), (year_widget0, 'value'))\n",
    "\n",
    "\n",
    "@ipywidgets.interact(year=year_widget0)\n",
    "def expwd_plot(year):    \n",
    "    with exp_output1:\n",
    "        clear_output(True)\n",
    "        try:\n",
    "            df_exp0 = df_exp.groupby(['title','Year', 'expert_labels'], as_index=False)['expert_word_cnt'].sum()\n",
    "            df_exp1 = df_exp0.sort_values(by=['Year'])\n",
    "            dframe = df_exp1[df_exp1['Year'].between(year[0], year[1])]\n",
    "            df_00 = df_exp.groupby(['Year', 'expert_labels'], as_index=False)['expert_word_cnt'].sum()\n",
    "            dframe.columns = ['title', 'Year', 'expert_labels', 'Expert Word Amount']\n",
    "            fig = px.bar(data_frame=dframe, x=\"Year\", y=\"Expert Word Amount\", color='expert_labels', barmode='group')#, text='Expert Word Amount')\n",
    "            fig.update_traces(textposition='outside')\n",
    "            fig.update_layout(\n",
    "            height=500,\n",
    "            title_text='Total Expert Word Count per Document(2010 - 2021)')\n",
    "            year_widget0.layout.display = 'none'\n",
    "            fig.show()\n",
    "        except:\n",
    "            pass"
   ]
  },
  {
   "cell_type": "code",
   "execution_count": 32,
   "id": "448d57d5",
   "metadata": {
    "extensions": {
     "jupyter_dashboards": {
      "version": 1,
      "views": {
       "grid_default": {
        "hidden": true
       }
      }
     }
    },
    "scrolled": true
   },
   "outputs": [
    {
     "data": {
      "application/vnd.jupyter.widget-view+json": {
       "model_id": "46b607d0dabe45bba0c2cf285e49ac24",
       "version_major": 2,
       "version_minor": 0
      },
      "text/plain": [
       "interactive(children=(Dropdown(description='N-Grams', options=('Unigram', 'Bigram', 'Trigram'), value='Unigram…"
      ]
     },
     "metadata": {},
     "output_type": "display_data"
    }
   ],
   "source": [
    "#Allow widget to interact with any plot\n",
    "grams_dropdown0 = widgets.Dropdown(\n",
    "    options=list(df_grams['Grams'].unique()),\n",
    "    value='Unigram',\n",
    "    description='N-Grams',\n",
    ")\n",
    "grams_output0 = widgets.Output()\n",
    "\n",
    "grams_dropdown1 = widgets.Dropdown(\n",
    "    options=list(df_grams['Grams'].unique()),\n",
    "    value='Unigram',\n",
    "    description='N-Grams',\n",
    ")\n",
    "\n",
    "l = widgets.link((grams_dropdown1, 'value'), (grams_dropdown0, 'value'))\n",
    "\n",
    "grams_output1 = widgets.Output()\n",
    "\n",
    "@ipywidgets.interact(gram=grams_dropdown0)\n",
    "def expwd_plot(gram):    \n",
    "    with grams_output1:\n",
    "        clear_output(True)\n",
    "        try:\n",
    "            dframe = df_grams.loc[df_grams[\"Grams\"] == gram]\n",
    "            dframe.columns = ['Word-Grams', 'Frequency', 'Grams']\n",
    "            fig = px.bar(data_frame=dframe, x=\"Word-Grams\", y=\"Frequency\", color='Grams', barmode='group', text='Frequency')\n",
    "            fig.update_traces(textposition='outside')\n",
    "            fig.update_layout(\n",
    "            height=500,\n",
    "            title_text='Word Contiguous Sequences')\n",
    "            grams_dropdown0.layout.display = 'none'\n",
    "            fig.show()\n",
    "        except:\n",
    "            pass"
   ]
  },
  {
   "cell_type": "code",
   "execution_count": 33,
   "id": "5e1501bc",
   "metadata": {
    "extensions": {
     "jupyter_dashboards": {
      "version": 1,
      "views": {
       "grid_default": {
        "hidden": true
       }
      }
     }
    }
   },
   "outputs": [],
   "source": [
    "year_slider = widgets.VBox([year_widget1, exp_output1])\n",
    "grams_select = widgets.VBox([grams_dropdown1, grams_output1])"
   ]
  },
  {
   "cell_type": "code",
   "execution_count": 34,
   "id": "4451a398",
   "metadata": {
    "extensions": {
     "jupyter_dashboards": {
      "version": 1,
      "views": {
       "grid_default": {
        "hidden": true
       }
      }
     }
    }
   },
   "outputs": [],
   "source": [
    "tab1 = VBox(children=[buttons01, buttons00,])\n",
    "tab2 = VBox(children=[buttons03, buttons3,])\n",
    "tab3 = VBox(children=[year_slider,])\n",
    "tab4 = VBox(children=[grams_select,])"
   ]
  },
  {
   "cell_type": "code",
   "execution_count": 35,
   "id": "948d5549",
   "metadata": {
    "extensions": {
     "jupyter_dashboards": {
      "version": 1,
      "views": {
       "grid_default": {
        "hidden": true
       }
      }
     }
    },
    "scrolled": true
   },
   "outputs": [
    {
     "data": {
      "application/vnd.jupyter.widget-view+json": {
       "model_id": "bee2840b90f84096ac02455905f09666",
       "version_major": 2,
       "version_minor": 0
      },
      "text/plain": [
       "VBox(children=(Tab(children=(VBox(children=(HBox(children=(Button(button_style='info', description='Delete', s…"
      ]
     },
     "metadata": {},
     "output_type": "display_data"
    }
   ],
   "source": [
    "tab = widgets.Tab(children=[tab1, tab2, tab3, tab4, ])\n",
    "tab.set_title(0, 'Patient Analysis')\n",
    "tab.set_title(1, 'Prediction Tool')\n",
    "tab.set_title(2, 'Expert Word Analysis')\n",
    "tab.set_title(3, 'N-Grams')\n",
    "VBox(children=[tab])"
   ]
  },
  {
   "cell_type": "markdown",
   "id": "54f15e7a",
   "metadata": {
    "extensions": {
     "jupyter_dashboards": {
      "version": 1,
      "views": {
       "grid_default": {
        "hidden": true
       }
      }
     }
    }
   },
   "source": [
    "#### Jermaine Samuels ######\n",
    "Msc Applied Data Science\n",
    "ID: 6200005491"
   ]
  },
  {
   "cell_type": "code",
   "execution_count": null,
   "id": "ef2ce329",
   "metadata": {
    "extensions": {
     "jupyter_dashboards": {
      "version": 1,
      "views": {
       "grid_default": {
        "hidden": true
       }
      }
     }
    }
   },
   "outputs": [],
   "source": []
  },
  {
   "cell_type": "code",
   "execution_count": null,
   "id": "5787a39a",
   "metadata": {
    "extensions": {
     "jupyter_dashboards": {
      "version": 1,
      "views": {
       "grid_default": {
        "hidden": true
       }
      }
     }
    }
   },
   "outputs": [],
   "source": []
  }
 ],
 "metadata": {
  "extensions": {
   "jupyter_dashboards": {
    "activeView": "grid_default",
    "version": 1,
    "views": {
     "grid_default": {
      "cellMargin": 2,
      "defaultCellHeight": 60,
      "maxColumns": 12,
      "name": "grid",
      "type": "grid"
     }
    }
   }
  },
  "kernelspec": {
   "display_name": "Python 3",
   "language": "python",
   "name": "python3"
  },
  "language_info": {
   "codemirror_mode": {
    "name": "ipython",
    "version": 3
   },
   "file_extension": ".py",
   "mimetype": "text/x-python",
   "name": "python",
   "nbconvert_exporter": "python",
   "pygments_lexer": "ipython3",
   "version": "3.8.8"
  }
 },
 "nbformat": 4,
 "nbformat_minor": 5
}
