{
 "cells": [
  {
   "cell_type": "code",
   "execution_count": null,
   "id": "964a9f67-7804-4a77-975c-8fcee8c1fc40",
   "metadata": {},
   "outputs": [],
   "source": [
    "\"\"\"\n",
    "import os,sys\n",
    "import glob\n",
    "import numpy as np\n",
    "import random\n",
    "from PIL import Image\n",
    "import pandas as pd\n",
    "import nibabel as nib\n",
    "from pathlib import Path\n",
    "import imageio\n",
    "import matplotlib\n",
    "from tensorflow.keras.preprocessing.image import ImageDataGenerator\n",
    "import matplotlib.image as mpimg\n",
    "from nibabel.viewers import OrthoSlicer3D\n",
    "from pathlib import Path\n",
    "from matplotlib import pylab as plt\n",
    "plt.style.use(\"ggplot\")\n",
    "%matplotlib inline\n",
    "from skimage.util import img_as_ubyte\n",
    "import imageio\n",
    "from sklearn.preprocessing import minmax_scale\n",
    "import cv2\n",
    "from tqdm import tqdm_notebook, tnrange\n",
    "from itertools import chain\n",
    "from skimage.io import imread, imshow, concatenate_images\n",
    "from skimage.transform import resize\n",
    "from skimage.morphology import label\n",
    "from sklearn.model_selection import train_test_split\n",
    "\n",
    "import tensorflow as tf\n",
    "from skimage.color import rgb2gray\n",
    "from tensorflow.keras import Input\n",
    "from tensorflow.keras.models import Model, load_model, save_model\n",
    "from tensorflow.keras.layers import Input, Activation, BatchNormalization, Dropout, Lambda, Conv2D, Conv2DTranspose, MaxPooling2D, concatenate\n",
    "from tensorflow.keras.optimizers import Adam\n",
    "from tensorflow.keras.callbacks import EarlyStopping, ModelCheckpoint, ReduceLROnPlateau\n",
    "\n",
    "from tensorflow.keras import backend as K\n",
    "from tensorflow.keras.preprocessing.image import ImageDataGenerator\n",
    "from tensorflow.keras.callbacks import EarlyStopping, ModelCheckpoint\n",
    "pd.set_option('display.max_colwidth', None)\"\"\""
   ]
  },
  {
   "cell_type": "code",
   "execution_count": null,
   "id": "b1bd1a34-64bc-4d73-9641-94839e61d00f",
   "metadata": {},
   "outputs": [],
   "source": [
    "import os,sys\n",
    "import glob\n",
    "import numpy as np\n",
    "import random\n",
    "import pandas as pd\n",
    "pd.set_option('display.max_colwidth', None)\n",
    "from pathlib import Path\n",
    "import imageio\n",
    "import cv2\n",
    "from matplotlib import pylab as plt\n",
    "import matplotlib\n",
    "from tensorflow.keras.models import Model, load_model, save_model"
   ]
  },
  {
   "cell_type": "markdown",
   "id": "3adbd7ad-90e0-483e-8938-fd9dcbc4241d",
   "metadata": {},
   "source": []
  },
  {
   "cell_type": "code",
   "execution_count": null,
   "id": "7a88c007-cde4-47a1-9075-7b165a6a5881",
   "metadata": {},
   "outputs": [],
   "source": [
    "#Corrected Dice Coefficient\n",
    "def dice_coef(y_true, y_pred, smooth=1):\n",
    "    y_true_f = K.flatten(y_true)\n",
    "    y_pred_f = K.flatten(y_pred)\n",
    "    intersection = K.sum(y_true_f * y_pred_f)\n",
    "    return (2. * intersection + smooth) / (K.sum(y_true_f) + K.sum(y_pred_f) + smooth)\n",
    "    \n",
    "\n",
    "#IOU Coeffifficent\n",
    "def iou(y_true, y_pred, smooth=1):\n",
    "    y_true_f = K.flatten(y_true)\n",
    "    y_pred_f = K.flatten(y_pred)\n",
    "    intersection = K.sum(y_true_f * y_pred_f)\n",
    "    union = K.sum(y_true_f) + K.sum(y_pred_f) - intersection\n",
    "    return (intersection + smooth) / (union + smooth)\n",
    "\n",
    "\n",
    "# Computing Precision \n",
    "def precision(y_true, y_pred):\n",
    "        true_positives = K.sum(K.round(K.clip(y_true * y_pred, 0, 1)))\n",
    "        predicted_positives = K.sum(K.round(K.clip(y_pred, 0, 1)))\n",
    "        precision = true_positives / (predicted_positives + K.epsilon())\n",
    "        return precision\n",
    "\n",
    "# Computing Sensitivity      \n",
    "def sensitivity(y_true, y_pred):\n",
    "    true_positives = K.sum(K.round(K.clip(y_true * y_pred, 0, 1)))\n",
    "    possible_positives = K.sum(K.round(K.clip(y_true, 0, 1)))\n",
    "    return true_positives / (possible_positives + K.epsilon())\n",
    "\n",
    "# Computing Specificity\n",
    "def specificity(y_true, y_pred):\n",
    "    true_negatives = K.sum(K.round(K.clip((1-y_true) * (1-y_pred), 0, 1)))\n",
    "    possible_negatives = K.sum(K.round(K.clip(1-y_true, 0, 1)))\n",
    "    return true_negatives / (possible_negatives + K.epsilon())"
   ]
  },
  {
   "cell_type": "code",
   "execution_count": null,
   "id": "9d846986-23a5-4ed6-8d74-f9142ef3437e",
   "metadata": {},
   "outputs": [],
   "source": [
    "#Loading Segmentation Model\n",
    "model = load_model(\"C:/Brain Tumor Validation/models/BraTs2019mri_final_seg1.h5\", custom_objects={'dice_coef': dice_coef, 'iou':iou, 'precision':precision, \\\n",
    "                                                                                                                      'sensitivity':sensitivity, 'specificity':specificity})"
   ]
  },
  {
   "cell_type": "code",
   "execution_count": null,
   "id": "302b8301-8fe2-45bd-9407-d653a714d275",
   "metadata": {},
   "outputs": [],
   "source": [
    "import os\n",
    "\n",
    "path =\"C:/Brain Tumor Validation/Patients/\"\n",
    "#we shall store all the file names in this list\n",
    "filelist = []\n",
    "\n",
    "for root, dirs, files in os.walk(path):\n",
    "    for file in files:\n",
    "        #append the file name to the list\n",
    "        filelist.append(os.path.join(root,file))\n",
    "\n",
    "#print all the file names\n",
    "for name in filelist:\n",
    "    print(name)"
   ]
  },
  {
   "cell_type": "code",
   "execution_count": null,
   "id": "315524f2-73f6-46ea-824f-b2ee75e79140",
   "metadata": {},
   "outputs": [],
   "source": [
    "#creating image dataframe\n",
    "df = pd.DataFrame({'Image_dir': filelist})"
   ]
  },
  {
   "cell_type": "code",
   "execution_count": null,
   "id": "c25e8bc6-ff51-4582-8aee-2fce9b76477d",
   "metadata": {},
   "outputs": [],
   "source": [
    "#structuring imag path string\n",
    "df[\"Image_dir\"] = [path.replace(\"\\\\\", \"/\") for path in df[\"Image_dir\"]]"
   ]
  },
  {
   "cell_type": "code",
   "execution_count": null,
   "id": "952782cf-763b-4227-8b8e-7dd616dfae88",
   "metadata": {},
   "outputs": [],
   "source": [
    "df.head()"
   ]
  },
  {
   "cell_type": "code",
   "execution_count": null,
   "id": "562aa826-cd7a-4c1d-840d-bc9bceb0a35b",
   "metadata": {},
   "outputs": [],
   "source": [
    "#add a column for subfolder\n",
    "folder =[]\n",
    "for path in df[\"Image_dir\"]:\n",
    "    pth = Path(path)\n",
    "    pth_part = pth.parts\n",
    "    foldername = pth_part[3] + '_' + pth_part[4] + '_' + pth_part[5]\n",
    "    folder.append(foldername)\n",
    "\n",
    "df[\"subfolder\"] = folder\n",
    "df.head()   "
   ]
  },
  {
   "cell_type": "code",
   "execution_count": null,
   "id": "e6e0b475-4a06-4e3b-8fee-6006bbacc967",
   "metadata": {},
   "outputs": [],
   "source": [
    "#add a column for image types\n",
    "df[\"Image_type\"] = [\"scan\" if img[-8:-4] == \"scan\" else \"mask\" for img in df[\"Image_dir\"]]\n",
    "df.sample(3)"
   ]
  },
  {
   "cell_type": "code",
   "execution_count": null,
   "id": "ff1b57b7-6b98-4c3f-822b-6a6a5f6267ea",
   "metadata": {},
   "outputs": [],
   "source": [
    "#seperating scans from images\n",
    "df_scan = df.loc[df[\"Image_type\"] == \"scan\"]\n",
    "df_mask = df.loc[df[\"Image_type\"] == \"mask\"]\n",
    "(print(df_scan.shape, df_mask.shape))"
   ]
  },
  {
   "cell_type": "code",
   "execution_count": null,
   "id": "1a0c402d-2b05-4f7d-94d2-a4f729a29957",
   "metadata": {},
   "outputs": [],
   "source": [
    "print(df_scan.columns, df_mask.columns)"
   ]
  },
  {
   "cell_type": "code",
   "execution_count": null,
   "id": "64451f49-b8cb-4383-a9c3-de79b0f7f349",
   "metadata": {},
   "outputs": [],
   "source": [
    "#renaming columns\n",
    "df_scan.columns = ['scans_dir', 'scans_subfolder', 'scans_Image_type']\n",
    "df_mask.columns = ['masks_dir', 'masks_subfolder', 'masks_Image_type']"
   ]
  },
  {
   "cell_type": "code",
   "execution_count": null,
   "id": "b2e040d1-a509-4a9c-aded-f87008bf5a7b",
   "metadata": {},
   "outputs": [],
   "source": [
    "print(df_scan.columns, df_mask.columns)"
   ]
  },
  {
   "cell_type": "code",
   "execution_count": null,
   "id": "010acd57-972a-4787-959b-e310692f7121",
   "metadata": {},
   "outputs": [],
   "source": [
    "#aligning scans with masks\n",
    "df_img = df_scan.merge(df_mask, how=\"left\", left_on='scans_subfolder', right_on='masks_subfolder')\n",
    "df_img"
   ]
  },
  {
   "cell_type": "code",
   "execution_count": null,
   "id": "a5917857-fc95-484c-a114-305ba6ebf9a7",
   "metadata": {},
   "outputs": [],
   "source": [
    "df_img.columns"
   ]
  },
  {
   "cell_type": "code",
   "execution_count": null,
   "id": "380620f2-4daf-4be7-bd05-2d4d07765ea8",
   "metadata": {},
   "outputs": [],
   "source": [
    "df_img = df_img[['scans_dir', 'masks_dir']]\n",
    "df_img.head()"
   ]
  },
  {
   "cell_type": "markdown",
   "id": "ad13b172-3518-42f7-a35b-5d64a1843077",
   "metadata": {},
   "source": [
    "## Segmentation Prediction"
   ]
  },
  {
   "cell_type": "code",
   "execution_count": null,
   "id": "d9cebdb3-318d-4559-ae15-2d3686ed9930",
   "metadata": {},
   "outputs": [],
   "source": [
    "for i in range(16):\n",
    "    #idx = np.random.randint(0, len(df_img))\n",
    "    \n",
    "    imagePath = os.path.join(df_img['scans_dir'].iloc[i])\n",
    "    maskPath = os.path.join(df_img['masks_dir'].iloc[i])\n",
    "    print(imagePath)\n",
    "    \n",
    "    image = cv2.imread(imagePath)\n",
    "    mask = cv2.imread(maskPath)\n",
    "    \n",
    "    img_mask = cv2.resize(mask ,(240, 240))\n",
    "    mask = img_mask / 255\n",
    "    \n",
    "    img = cv2.resize(image ,(240, 240))\n",
    "    img = img / 255\n",
    "    img = img[np.newaxis, :, :, 1]\n",
    "    pred=model.predict(img)\n",
    "\n",
    "    plt.figure(figsize=(12,12))\n",
    "    plt.subplot(1,4,1)\n",
    "    plt.imshow(np.squeeze(img))\n",
    "    plt.title('Original Image')\n",
    "    plt.subplot(1,4,2)\n",
    "    plt.imshow(mask)\n",
    "    plt.title('Original Mask')\n",
    "    plt.subplot(1,4,3)\n",
    "    plt.imshow(np.squeeze(pred))\n",
    "    plt.title('Prediction')\n",
    "    plt.subplot(1,4,4)\n",
    "    plt.imshow(np.squeeze(pred) > 0.5)\n",
    "    plt.title('BinaryPrediction')\n",
    "    plt.show()"
   ]
  },
  {
   "cell_type": "markdown",
   "id": "faa6a111-f0e9-497d-bab9-0bbf13f808d3",
   "metadata": {},
   "source": [
    "## HighGrade / Low Grade Glioma Classification"
   ]
  },
  {
   "cell_type": "code",
   "execution_count": null,
   "id": "1357c13d-5618-497c-88ef-bf4932ed815a",
   "metadata": {},
   "outputs": [],
   "source": [
    "#model1 = load_model(\"C:/Brain Tumor Validation/models/BraTs2019mri_CLASS.h5\")\n",
    "model1 = load_model(\"C:\\Voila\\models\\brats2019_imagenet_class.h5\")"
   ]
  },
  {
   "cell_type": "code",
   "execution_count": null,
   "id": "3bc5e043-3184-4856-9e19-321ef238032b",
   "metadata": {},
   "outputs": [],
   "source": [
    "#2 out of 44segments completly incorrectly labelled"
   ]
  },
  {
   "cell_type": "code",
   "execution_count": null,
   "id": "d7d9b702-d521-431c-8f16-736f6f336c2a",
   "metadata": {},
   "outputs": [],
   "source": [
    "#df_img['TUMOR_CATEGORY'] = [\"\" for images in df_img[\"scans_dir\"]]"
   ]
  },
  {
   "cell_type": "code",
   "execution_count": null,
   "id": "3afe9b08-7017-48c4-b7b0-65bdd26e8b64",
   "metadata": {},
   "outputs": [],
   "source": [
    "labels = {'HGG': 0, 'LGG': 1, 'NO_TUMOR': 2}"
   ]
  },
  {
   "cell_type": "code",
   "execution_count": null,
   "id": "faf913c0-06d0-49dc-8704-47fd2de57026",
   "metadata": {},
   "outputs": [],
   "source": [
    "df_img.head()"
   ]
  },
  {
   "cell_type": "code",
   "execution_count": null,
   "id": "0faaf3db-8302-421b-a466-c46ce8b715df",
   "metadata": {},
   "outputs": [],
   "source": [
    "prediction_list = []\n",
    "for i in range(len(df_img)):\n",
    "    idx = np.random.randint(0, len(df_img))\n",
    "    \n",
    "    imagePath = os.path.join(df_img['scans_dir'].iloc[idx])    \n",
    "    \n",
    "    image = cv2.imread(imagePath)    \n",
    "    img = cv2.resize(image ,(256, 256))\n",
    "    img = img / 255\n",
    "    #img = img[np.newaxis, :, :, 1]\n",
    "    img = np.expand_dims(img, axis=0)\n",
    "    pred=model1.predict(img)\n",
    "    mod_pred = np.argmax(pred, axis =1)   \n",
    "    prediction_list.append(mod_pred[0])\n",
    "    preds = [\"HGG\" if i == 0 else \"LGG\"  if i ==1 else \"NT\" for i in prediction_list]  \n",
    "    "
   ]
  },
  {
   "cell_type": "code",
   "execution_count": null,
   "id": "a7b3e12f-3cc2-4fab-9d2e-45fc8f2cadc0",
   "metadata": {},
   "outputs": [],
   "source": [
    "df_img = df_img.copy()"
   ]
  },
  {
   "cell_type": "code",
   "execution_count": null,
   "id": "a4803525-2249-462d-9421-6f28136f58eb",
   "metadata": {},
   "outputs": [],
   "source": [
    "df_img['predictions'] = preds"
   ]
  },
  {
   "cell_type": "code",
   "execution_count": null,
   "id": "b918bd78-62be-4ae3-bd64-a166071e9faf",
   "metadata": {},
   "outputs": [],
   "source": [
    "df_img"
   ]
  },
  {
   "cell_type": "code",
   "execution_count": null,
   "id": "1d7b0aae-59c9-467c-b3be-e9d53a294b71",
   "metadata": {},
   "outputs": [],
   "source": [
    "#All images are High grade glioma's\n",
    "accuracy = len(df_img.loc[df_img[\"predictions\"]==\"HGG\"])/df_img.shape[0]\n",
    "print(\"Total Accuracy for test images = \", accuracy * 100, ' %')"
   ]
  },
  {
   "cell_type": "code",
   "execution_count": null,
   "id": "feae112f-76bd-44ae-b6d5-8ab380f72dc8",
   "metadata": {},
   "outputs": [],
   "source": [
    "df_img.to_csv(\"Results/image classification results.csv\")"
   ]
  },
  {
   "cell_type": "markdown",
   "id": "e6023252-f05f-4219-8fde-090406996ae0",
   "metadata": {},
   "source": [
    "## Testing Older Model"
   ]
  },
  {
   "cell_type": "code",
   "execution_count": null,
   "id": "404a4866-0228-45b8-b1bb-6b0c74cceb85",
   "metadata": {},
   "outputs": [],
   "source": [
    "#Loading Segmentation Model\n",
    "model3 = load_model(\"C:/Brain Tumor Validation/models/BraTs2020unet.h5\", custom_objects={'dice_coef': dice_coef, 'iou':iou, 'precision':precision, \\\n",
    "                                                                                                                      'sensitivity':sensitivity, 'specificity':specificity})"
   ]
  },
  {
   "cell_type": "code",
   "execution_count": null,
   "id": "f3f8379d-4e3b-4a45-a190-bc12190f4d0c",
   "metadata": {},
   "outputs": [],
   "source": [
    "\n",
    "image = cv2.imread(\"C:/Brain Tumor Validation/Patients/patient_1/t1/ax +c/scan.png\")\n",
    "img = image[:, :, 1]\n",
    "img = cv2.resize(img ,(240, 240))\n",
    "#img = img / 255\n",
    "img = np.expand_dims(img, axis=0)"
   ]
  },
  {
   "cell_type": "code",
   "execution_count": null,
   "id": "2ac592de-0781-4e56-a859-127aa5bb6e5d",
   "metadata": {},
   "outputs": [],
   "source": [
    "\n",
    "fig = plt.figure(figsize=(5,5))\n",
    "pref_Tumor = model3.predict(img)\n",
    "imgplot = plt.imshow(pref_Tumor)\n",
    "plt.show()"
   ]
  },
  {
   "cell_type": "code",
   "execution_count": null,
   "id": "c11e64ae-bfad-4e71-abe6-a9dd70752221",
   "metadata": {},
   "outputs": [],
   "source": []
  }
 ],
 "metadata": {
  "kernelspec": {
   "display_name": "Python 3",
   "language": "python",
   "name": "python3"
  },
  "language_info": {
   "codemirror_mode": {
    "name": "ipython",
    "version": 3
   },
   "file_extension": ".py",
   "mimetype": "text/x-python",
   "name": "python",
   "nbconvert_exporter": "python",
   "pygments_lexer": "ipython3",
   "version": "3.8.8"
  }
 },
 "nbformat": 4,
 "nbformat_minor": 5
}
